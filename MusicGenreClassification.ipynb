{
  "cells": [
    {
      "cell_type": "markdown",
      "metadata": {
        "colab_type": "text",
        "id": "view-in-github"
      },
      "source": [
        "<a href=\"https://colab.research.google.com/github/chakradharkowsik/DL/blob/main/MusicGenreClassification.ipynb\" target=\"_parent\"><img src=\"https://colab.research.google.com/assets/colab-badge.svg\" alt=\"Open In Colab\"/></a>"
      ]
    },
    {
      "cell_type": "code",
      "execution_count": null,
      "metadata": {
        "id": "0F7C5QH3yisF"
      },
      "outputs": [],
      "source": [
        "from google.colab import drive\n",
        "drive.mount('/content/drive')"
      ]
    },
    {
      "cell_type": "code",
      "execution_count": null,
      "metadata": {},
      "outputs": [],
      "source": [
        "files_path ='/content/drive/MyDrive/MusicGenreClassification/Data/'"
      ]
    },
    {
      "cell_type": "code",
      "execution_count": null,
      "metadata": {},
      "outputs": [],
      "source": [
        "import numpy as np\n",
        "import pandas as pd\n",
        "import librosa, librosa.display\n",
        "import matplotlib.pyplot as plt\n",
        "import seaborn as sn\n",
        "import tensorflow as tf\n",
        "import logging\n",
        "import os\n",
        "from keras.models import Sequential\n",
        "from keras.layers import LSTM,Conv1D\n",
        "from keras.layers import Dense\n",
        "from keras.optimizers import Adam\n",
        "\n",
        "\"Need for predicting a music genre from a custom audio file\"\n",
        "import librosa\n",
        "import logging\n",
        "import sys\n",
        "import numpy as np\n",
        "from keras.models import model_from_json"
      ]
    },
    {
      "cell_type": "code",
      "execution_count": null,
      "metadata": {},
      "outputs": [],
      "source": [
        "train_data = np.load(files_path+'shuffled_train.npz')\n",
        "print(train_data['arr_0'].shape)\n",
        "print(train_data['arr_1'].shape)\n",
        "validation_data = np.load(files_path+'shuffled_valid.npz')\n",
        "print(validation_data['arr_0'].shape)\n",
        "print(validation_data['arr_1'].shape)\n",
        "\n",
        "test_data = np.load(files_path+'test_arr.npz')\n",
        "print(test_data['arr_0'].shape)\n",
        "print(test_data['arr_1'].shape)"
      ]
    }
  ],
  "metadata": {
    "colab": {
      "authorship_tag": "ABX9TyNAsl3qPS3lr0xaGFeU16ao",
      "include_colab_link": true,
      "provenance": []
    },
    "kernelspec": {
      "display_name": "Python 3",
      "name": "python3"
    },
    "language_info": {
      "name": "python"
    }
  },
  "nbformat": 4,
  "nbformat_minor": 0
}
